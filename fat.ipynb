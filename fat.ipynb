{
 "cells": [
  {
   "cell_type": "code",
   "execution_count": 1,
   "metadata": {},
   "outputs": [],
   "source": [
    "### This is about simulating a great number of times the Velib trafic in Rouen\n",
    "import Distributions\n",
    "using Distributions\n",
    "srand(123);"
   ]
  },
  {
   "cell_type": "code",
   "execution_count": 2,
   "metadata": {},
   "outputs": [],
   "source": [
    "#General Data\n",
    "T = 1000 #horizon\n",
    "n = 5 #number of stations : 3-7\n",
    "dist_matrix = [0 3 5 7 7;\n",
    "               2 0 2 5 5;\n",
    "               4 2 0 3 3;\n",
    "               8 6 4 0 2;\n",
    "               7 7 5 2 0]; #distance between stations\n",
    "terminal_number = [24 20 20 15 20]; #number of terminals at each station\n",
    "routing_matrix = [0 0.2 0.3 0.2 0.3;\n",
    "                  0.2 0 0.3 0.2 0.3;\n",
    "                  0.2 0.25 0 0.25 0.3;\n",
    "                  0.15 0.2 0.3 0 0.35;\n",
    "                  0.2 0.25 0.35 0.2 0]; #routing matrix ?\n",
    "leaving_per_hour = [2.8 3.7 5.5 3.5 4.6]; #mean number of bikes leaving each station per hour\n",
    "alpha = 0.1;\n",
    "N_bikes = convert(Integer, 91); #total number of bikes\n",
    "N_stations = convert(Integer, 5); #number of stations"
   ]
  },
  {
   "cell_type": "code",
   "execution_count": 3,
   "metadata": {},
   "outputs": [],
   "source": [
    "#Initial data\n",
    "X0 = [20 1 0 0 0;\n",
    "     1 15 1 0 0;\n",
    "     0 1 17 1 0;\n",
    "     0 0 1 13 1;\n",
    "     0 0 0 1 18];"
   ]
  },
  {
   "cell_type": "code",
   "execution_count": 4,
   "metadata": {},
   "outputs": [
    {
     "data": {
      "text/plain": [
       "get_event (generic function with 1 method)"
      ]
     },
     "execution_count": 4,
     "metadata": {},
     "output_type": "execute_result"
    }
   ],
   "source": [
    "function get_event(v, P)\n",
    "    i0 = 1; j0 = 1; s = 0;\n",
    "    for i in range(1, N_stations)\n",
    "        for j in range(1, N_stations)\n",
    "            s = s + P[(i-1)*N_stations + j];\n",
    "            if P[(i-1)*N_stations + j] != 0\n",
    "                if v > s\n",
    "                    i0 = i; j0 = j;\n",
    "                else\n",
    "                    return [i0, j0];\n",
    "                end\n",
    "            end\n",
    "        end\n",
    "    end\n",
    "    return [i0, j0]\n",
    "end"
   ]
  },
  {
   "cell_type": "code",
   "execution_count": 5,
   "metadata": {},
   "outputs": [
    {
     "data": {
      "text/plain": [
       "simulate (generic function with 1 method)"
      ]
     },
     "execution_count": 5,
     "metadata": {},
     "output_type": "execute_result"
    }
   ],
   "source": [
    "function simulate(T)\n",
    "    #define distributions\n",
    "    c = Uniform();\n",
    "    route = [Categorical(routing_matrix[i, :]) for i in range(1, N_stations)]; #TO BE CHANGED\n",
    "    #time\n",
    "    t = 0;\n",
    "    #state\n",
    "    X = X0;\n",
    "    #number of problems\n",
    "    result = 0;\n",
    "    while (t < T)\n",
    "        #********************************************************************\n",
    "        #Get the parameter of the stay time Exponential \n",
    "        #get also the vector with probabilities of each event p\n",
    "        lambda = 0;\n",
    "        p = zeros(N_stations*N_stations);\n",
    "        for i in range(1, N_stations)\n",
    "            for j in range(1, N_stations)\n",
    "                if i != j\n",
    "                    lambda = lambda + X[i,j]*dist_matrix[i,j];\n",
    "                    p[N_stations*(i-1) + j] = X[i,j]*dist_matrix[i,j];\n",
    "                else\n",
    "                    lambda = lambda + alpha * leaving_per_hour[i];\n",
    "                    p[N_stations*(i-1) + j] = alpha * leaving_per_hour[i];\n",
    "                end\n",
    "            end\n",
    "        end\n",
    "        p = p./lambda;\n",
    "        \n",
    "        #*****************************************************************\n",
    "        #Draw the time to stay\n",
    "        exp = Exponential(lambda);\n",
    "        dt = rand(exp);\n",
    "        t = t + dt;\n",
    "        \n",
    "        #*****************************************************************\n",
    "        #draw event and realise it\n",
    "        cat = rand(c);\n",
    "        A = get_event(cat, p); i = A[1]; j = A[2];\n",
    "        #if i == j it is a departure. Else it is an arrival.\n",
    "        if i == j\n",
    "            #if there is no bike available\n",
    "            if X[i,j] == 0\n",
    "                result = result + 1;\n",
    "            else\n",
    "                X[i,j] = X[i,j] - 1;\n",
    "                destination = rand(route[i]);\n",
    "                X[i, destination] = X[i, destination] + 1;\n",
    "            end\n",
    "            println(\"departure \", t);\n",
    "        else #it is an arrival\n",
    "            #if no terminal is available\n",
    "            if X[j,j] == terminal_number[j]\n",
    "                result = result + 1;\n",
    "            else\n",
    "                X[i,j] = X[i,j] - 1;\n",
    "                X[j,j] = X[j,j] + 1;\n",
    "            end\n",
    "            println(\"arrival \", t);\n",
    "        end\n",
    "    end\n",
    "    return result\n",
    "end"
   ]
  },
  {
   "cell_type": "code",
   "execution_count": 6,
   "metadata": {},
   "outputs": [
    {
     "name": "stdout",
     "output_type": "stream",
     "text": [
      "arrival 2.79289154812082\n",
      "arrival 12.97664403880918\n",
      "arrival 26.484082606811214\n",
      "departure 32.53640049749328\n",
      "departure 34.76868665046818\n",
      "arrival 66.49058364284906\n",
      "arrival 78.3164982289261\n",
      "departure 86.27764884065121\n",
      "departure 119.0173793571536\n",
      "departure 124.53503186802475\n",
      "departure 142.82153670821612\n",
      "departure 210.5748040337932\n",
      "arrival 220.83509716361283\n",
      "arrival 323.50374903815265\n",
      "departure 325.47881687075136\n",
      "arrival 332.36684012821826\n",
      "departure 357.79593614950903\n",
      "departure 396.56242873752484\n",
      "departure 400.91937636089506\n",
      "departure 468.2876748748473\n",
      "departure 529.0004676247481\n",
      "arrival 543.7177373891963\n",
      "arrival 561.812862214473\n",
      "arrival 612.2424557911986\n",
      "arrival 665.3367240000815\n",
      "departure 666.2943800330871\n",
      "arrival 741.9235063222254\n",
      "arrival 759.1964167402336\n",
      "arrival 777.9071463598152\n",
      "arrival 805.1329999582114\n",
      "arrival 805.2943357223605\n",
      "arrival 896.919789339986\n",
      "arrival 909.2140789827772\n",
      "arrival 1039.7939168369373\n"
     ]
    },
    {
     "data": {
      "text/plain": [
       "6"
      ]
     },
     "execution_count": 6,
     "metadata": {},
     "output_type": "execute_result"
    }
   ],
   "source": [
    "simulate(1000)"
   ]
  },
  {
   "cell_type": "code",
   "execution_count": null,
   "metadata": {},
   "outputs": [],
   "source": []
  },
  {
   "cell_type": "code",
   "execution_count": null,
   "metadata": {},
   "outputs": [],
   "source": []
  }
 ],
 "metadata": {
  "kernelspec": {
   "display_name": "Julia 0.5.2",
   "language": "julia",
   "name": "julia-0.5"
  },
  "language_info": {
   "file_extension": ".jl",
   "mimetype": "application/julia",
   "name": "julia",
   "version": "0.5.2"
  }
 },
 "nbformat": 4,
 "nbformat_minor": 2
}
