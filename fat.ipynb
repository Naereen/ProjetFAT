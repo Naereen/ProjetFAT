{
 "cells": [
  {
   "cell_type": "code",
   "execution_count": 7,
   "metadata": {},
   "outputs": [],
   "source": [
    "### This is about simulating a great number of times the Velib trafic in Rouen\n",
    "import Distributions\n",
    "using Distributions\n",
    "srand(123);"
   ]
  },
  {
   "cell_type": "code",
   "execution_count": 8,
   "metadata": {},
   "outputs": [],
   "source": [
    "#General Data\n",
    "T = 1000 #horizon\n",
    "n = 5 #number of stations : 3-7\n",
    "dist_matrix = [0 3 5 7 7;\n",
    "               2 0 2 5 5;\n",
    "               4 2 0 3 3;\n",
    "               8 6 4 0 2;\n",
    "               7 7 5 2 0]; #distance between stations\n",
    "terminal_number = [24 20 20 15 20]; #number of terminals at each station\n",
    "routing_matrix = [0 0.2 0.3 0.2 0.3;\n",
    "                  0.2 0 0.3 0.2 0.3;\n",
    "                  0.2 0.25 0 0.25 0.3;\n",
    "                  0.15 0.2 0.3 0 0.35;\n",
    "                  0.2 0.25 0.35 0.2 0]; #routing matrix ?\n",
    "leaving_per_hour = [2.8 3.7 5.5 3.5 4.6]; #mean number of bikes leaving each station per hour\n",
    "N_bikes = convert(Integer, 91); #total number of bikes\n",
    "N_stations = convert(Integer, 5); #number of stations"
   ]
  },
  {
   "cell_type": "code",
   "execution_count": 9,
   "metadata": {},
   "outputs": [],
   "source": [
    "#Initial data\n",
    "X0 = [20 1 0 0 0;\n",
    "     1 15 1 0 0;\n",
    "     0 1 17 1 0;\n",
    "     0 0 1 13 1;\n",
    "     0 0 0 1 18];"
   ]
  },
  {
   "cell_type": "code",
   "execution_count": 68,
   "metadata": {},
   "outputs": [
    {
     "name": "stderr",
     "output_type": "stream",
     "text": [
      "WARNING: Method definition first_bike_to_leave(Any) in module Main at In[64]:2 overwritten at In[68]:2.\n",
      "WARNING: Method definition pop_custom(Any, Any) in module Main at In[64]:12 overwritten at In[68]:12.\n"
     ]
    },
    {
     "data": {
      "text/plain": [
       "pop_custom (generic function with 1 method)"
      ]
     },
     "execution_count": 68,
     "metadata": {},
     "output_type": "execute_result"
    }
   ],
   "source": [
    "function first_bike_to_leave(on_run)\n",
    "    first = on_run[1, :]\n",
    "    for i in range(1,size(on_run)[1])\n",
    "        if on_run[i,3] < first[3]\n",
    "            first = on_run[i,:];\n",
    "        end\n",
    "    end\n",
    "    return first\n",
    "end\n",
    "\n",
    "function pop_custom(on_run, first_bike)\n",
    "    i0 = 1;\n",
    "    for i in range(1,size(on_run)[1])\n",
    "        if on_run[i,:] == first_bike\n",
    "            i0 = i;\n",
    "        end\n",
    "    end\n",
    "    if i0 == 1\n",
    "        A = on_run[2:end, :];\n",
    "    elseif i0 == size(on_run)[1]\n",
    "        A = on_run[1:i0-1, :];\n",
    "    else\n",
    "        A = vcat(on_run[1:i0-1, :], on_run[i0+1:end, :]);\n",
    "    end\n",
    "    return A;\n",
    "end"
   ]
  },
  {
   "cell_type": "code",
   "execution_count": 72,
   "metadata": {},
   "outputs": [
    {
     "name": "stderr",
     "output_type": "stream",
     "text": [
      "WARNING: Method definition simulate(Any) in module Main at In[70]:3 overwritten at In[72]:3.\n"
     ]
    },
    {
     "data": {
      "text/plain": [
       "simulate (generic function with 1 method)"
      ]
     },
     "execution_count": 72,
     "metadata": {},
     "output_type": "execute_result"
    }
   ],
   "source": [
    "function simulate(T)\n",
    "    #define distributions\n",
    "    exp = Exponential(2); #PARAM TO BE CHANGED\n",
    "    #**route = [Categorical(routing_matrix[i]) for i in range(N_stations)];\n",
    "    route = Categorical([0.2,0.2,0.2,0.2,0.2]); #TO BE CHANGED\n",
    "    #**leaving = Categorical(leaving_per_hour);\n",
    "    leaving = Categorical([0.2,0.2,0.2,0.2,0.2]); #TO BE CHANGED\n",
    "    #**dist = [Exponential(dist_matrix[i, j]) for i in range(N_stations), j in range(N_stations)];\n",
    "    dist = Exponential(10); #TO BE CHANGED\n",
    "    #time\n",
    "    t = 0;\n",
    "    #state\n",
    "    X = X0;\n",
    "    #current bikes on the run with their expected arrival time\n",
    "    #on_run_bike = [1 2 rand(dist[1,2], 1);\n",
    "    #               2 1 rand(dist[2,1], 1);\n",
    "    #               2 3 rand(dist[2,3], 1);\n",
    "    #               3 2 rand(dist[3,2], 1);\n",
    "    #               3 4 rand(dist[3,4], 1);\n",
    "    #               4 3 rand(dist[4,3], 1);\n",
    "    #               4 5 rand(dist[4,5], 1);\n",
    "    #               5 4 rand(dist[5,4], 1)];\n",
    "    on_run_bike = [1 2 rand(dist);\n",
    "                   2 1 rand(dist);\n",
    "                   2 3 rand(dist);\n",
    "                   3 2 rand(dist);\n",
    "                   3 4 rand(dist);\n",
    "                   4 3 rand(dist);\n",
    "                   4 5 rand(dist);\n",
    "                   5 4 rand(dist)];\n",
    "    while (t < T)\n",
    "        #get expected stay time\n",
    "        stay = rand(exp);\n",
    "        #check if there is an arrival time of a bike on the run before stay time.\n",
    "        first_bike = first_bike_to_leave(on_run_bike);\n",
    "        #if the stay time is shorter than the first bike to arrive, it is a departure\n",
    "        if first_bike[3] > t + stay\n",
    "            station = rand(leaving); #station from which the bike leaves\n",
    "            #**destination = rand(route[station]); #destination station according to the routing matrix\n",
    "            destination = rand(route); #TO BE CHANGED\n",
    "            X[station, destination] = X[station, destination] + 1;\n",
    "            X[station, station] = X[station, station] - 1;\n",
    "            #**on_run_bike.append([station destination (t+rand(dist[station, destination], 1))]);\n",
    "            on_run_bike = [on_run_bike; [station destination t+stay+rand(dist)]]; #TO BE CHANGED\n",
    "            t = t + stay;\n",
    "            println(\"departure \", t);\n",
    "        else\n",
    "            station = convert(Integer, first_bike[2]);\n",
    "            origin = convert(Integer, first_bike[1]);\n",
    "            time = first_bike[3];\n",
    "            X[origin, station] = X[origin, station] - 1;\n",
    "            X[station, station] = X[station, station] + 1;\n",
    "            on_run_bike = pop_custom(on_run_bike, first_bike);\n",
    "            t = t + time;\n",
    "            println(\"arrival \", t);\n",
    "        end\n",
    "    end\n",
    "    result = 0;\n",
    "    return result\n",
    "end"
   ]
  },
  {
   "cell_type": "code",
   "execution_count": 73,
   "metadata": {},
   "outputs": [
    {
     "name": "stdout",
     "output_type": "stream",
     "text": [
      "arrival 0.4265850817152866\n",
      "arrival 0.9683318318906726\n",
      "arrival 2.1737778144211752\n",
      "arrival 5.024176979477375\n",
      "arrival 8.916096217145762\n",
      "arrival 14.24855381597553\n",
      "arrival 19.907705191131036\n",
      "departure 20.92800456371015\n",
      "departure 22.932451779319674\n",
      "departure 24.75282917388133\n",
      "departure 26.911668854918524\n",
      "departure 27.25421235785409\n",
      "arrival 54.62989879709791\n",
      "arrival 83.79046274917143\n",
      "arrival 113.30958916793384\n"
     ]
    },
    {
     "data": {
      "text/plain": [
       "0"
      ]
     },
     "execution_count": 73,
     "metadata": {},
     "output_type": "execute_result"
    }
   ],
   "source": [
    "simulate(100)"
   ]
  },
  {
   "cell_type": "code",
   "execution_count": null,
   "metadata": {},
   "outputs": [],
   "source": []
  },
  {
   "cell_type": "code",
   "execution_count": null,
   "metadata": {},
   "outputs": [],
   "source": []
  }
 ],
 "metadata": {
  "kernelspec": {
   "display_name": "Julia 0.5.2",
   "language": "julia",
   "name": "julia-0.5"
  },
  "language_info": {
   "file_extension": ".jl",
   "mimetype": "application/julia",
   "name": "julia",
   "version": "0.5.2"
  }
 },
 "nbformat": 4,
 "nbformat_minor": 2
}
