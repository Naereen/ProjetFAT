{
 "cells": [
  {
   "cell_type": "code",
   "execution_count": 2,
   "metadata": {},
   "outputs": [],
   "source": [
    "### This is about simulating a great number of times the Velib trafic in Rouen\n",
    "import Distributions\n",
    "using Distributions\n",
    "srand(123);"
   ]
  },
  {
   "cell_type": "code",
   "execution_count": 3,
   "metadata": {},
   "outputs": [],
   "source": [
    "#General Data\n",
    "T = 1000 #horizon\n",
    "n = 5 #number of stations : 3-7\n",
    "dist_matrix = [0 3 5 7 7;\n",
    "               2 0 2 5 5;\n",
    "               4 2 0 3 3;\n",
    "               8 6 4 0 2;\n",
    "               7 7 5 2 0]; #distance between stations\n",
    "terminal_number = [24 20 20 15 20]; #number of terminals at each station\n",
    "routing_matrix = [0 0.2 0.3 0.2 0.3;\n",
    "                  0.2 0 0.3 0.2 0.3;\n",
    "                  0.2 0.25 0 0.25 0.3;\n",
    "                  0.15 0.2 0.3 0 0.35;\n",
    "                  0.2 0.25 0.35 0.2 0]; #routing matrix ?\n",
    "leaving_per_hour = [2.8 3.7 5.5 3.5 4.6]; #mean number of bikes leaving each station per hour\n",
    "alpha = 0.1;\n",
    "N_bikes = convert(Integer, 91); #total number of bikes\n",
    "N_stations = convert(Integer, 5); #number of stations"
   ]
  },
  {
   "cell_type": "code",
   "execution_count": 4,
   "metadata": {},
   "outputs": [],
   "source": [
    "#Initial data\n",
    "X0 = [20 1 0 0 0;\n",
    "     1 15 1 0 0;\n",
    "     0 1 17 1 0;\n",
    "     0 0 1 13 1;\n",
    "     0 0 0 1 18];"
   ]
  },
  {
   "cell_type": "code",
   "execution_count": 5,
   "metadata": {},
   "outputs": [
    {
     "data": {
      "text/plain": [
       "get_event (generic function with 1 method)"
      ]
     },
     "execution_count": 5,
     "metadata": {},
     "output_type": "execute_result"
    }
   ],
   "source": [
    "function get_event(v, P)\n",
    "    i0 = 1; j0 = 1; s = 0;\n",
    "    for i in range(1, N_stations)\n",
    "        for j in range(1, N_stations)\n",
    "            s = s + P[(i-1)*N_stations + j];\n",
    "            if v > s\n",
    "                i0 = i; j0 = j;\n",
    "            else\n",
    "                return [i0, j0];\n",
    "            end\n",
    "        end\n",
    "    end\n",
    "    return [i0, j0]\n",
    "end"
   ]
  },
  {
   "cell_type": "code",
   "execution_count": 6,
   "metadata": {},
   "outputs": [
    {
     "data": {
      "text/plain": [
       "simulate (generic function with 1 method)"
      ]
     },
     "execution_count": 6,
     "metadata": {},
     "output_type": "execute_result"
    }
   ],
   "source": [
    "function simulate(T)\n",
    "    #define distributions\n",
    "    c = Uniform();\n",
    "    route = [Categorical(routing_matrix[i, :]) for i in range(1, N_stations)]; #TO BE CHANGED\n",
    "    #time\n",
    "    t = 0;\n",
    "    #state\n",
    "    X = X0;\n",
    "    #number of problems\n",
    "    result = 0;\n",
    "    while (t < T)\n",
    "        #********************************************************************\n",
    "        #Get the parameter of the stay time Exponential \n",
    "        #get also the vector with probabilities of each event p\n",
    "        lambda = 0;\n",
    "        p = zeros(N_stations*N_stations);\n",
    "        for i in range(1, N_stations)\n",
    "            for j in range(1, N_stations)\n",
    "                if i != j\n",
    "                    lambda = lambda + X[i,j]*dist_matrix[i,j];\n",
    "                    p[N_stations*(i-1) + j] = X[i,j]*dist_matrix[i,j];\n",
    "                else\n",
    "                    lambda = lambda + alpha * leaving_per_hour[i];\n",
    "                    p[N_stations*(i-1) + j] = alpha * leaving_per_hour[i];\n",
    "                end\n",
    "            end\n",
    "        end\n",
    "        p = p./lambda;\n",
    "        \n",
    "        #*****************************************************************\n",
    "        #Draw the time to stay\n",
    "        exp = Exponential(lambda);\n",
    "        dt = rand(exp);\n",
    "        t = t + dt;\n",
    "        \n",
    "        #*****************************************************************\n",
    "        #draw event and realise it\n",
    "        cat = rand(c);\n",
    "        A = get_event(cat, p); i = A[1]; j = A[2];\n",
    "        #if i == j it is a departure. Else it is an arrival.\n",
    "        if i == j\n",
    "            #if there is no bike available\n",
    "            if X[i,j] == 0\n",
    "                result = result + 1;\n",
    "            else\n",
    "                X[i,j] = X[i,j] - 1;\n",
    "                destination = rand(route[i]);\n",
    "                X[i, destination] = X[i, destination] + 1;\n",
    "            end\n",
    "            println(\"departure \", t);\n",
    "        else #it is an arrival\n",
    "            #if no terminal is available\n",
    "            if X[j,j] == terminal_number[j]\n",
    "                result = result + 1;\n",
    "            else\n",
    "                X[i,j] = X[i,j] - 1;\n",
    "                X[j,j] = X[j,j] + 1;\n",
    "            end\n",
    "            println(\"arrival \", t);\n",
    "        end\n",
    "    end\n",
    "    return result\n",
    "end"
   ]
  },
  {
   "cell_type": "code",
   "execution_count": 7,
   "metadata": {},
   "outputs": [
    {
     "name": "stdout",
     "output_type": "stream",
     "text": [
      "arrival 2.79289154812082\n",
      "departure 11.449844564942861\n",
      "arrival 29.04054731610867\n",
      "arrival 32.110417394289094\n",
      "departure 33.00400120664936\n",
      "arrival 49.50547581164237\n",
      "arrival 54.65008272196967\n",
      "departure 57.43907151698181\n",
      "arrival 69.57252958696289\n",
      "arrival 70.85999915274348\n",
      "departure 72.24849704100242\n",
      "departure 93.24410119029281\n",
      "departure 122.98572636735594\n",
      "departure 124.92875232281\n",
      "departure 126.06616642452772\n",
      "arrival 130.2762578407134\n",
      "departure 145.1865964591952\n",
      "departure 168.9515440276628\n",
      "departure 171.7246270196958\n",
      "departure 216.64306210217273\n",
      "departure 257.1234450661543\n",
      "departure 267.39234219777694\n",
      "arrival 297.71521386093497\n",
      "departure 310.52264167094813\n",
      "arrival 311.511179872061\n",
      "departure 350.23594711787814\n",
      "arrival 368.0658685135713\n",
      "departure 387.37997541853116\n",
      "arrival 578.5406755729953\n",
      "arrival 610.0073521545287\n",
      "arrival 628.5269560914664\n",
      "arrival 758.3229757548436\n",
      "departure 809.2094468561222\n",
      "arrival 825.0845148594511\n",
      "arrival 836.8959799466895\n",
      "arrival 863.1597108057335\n",
      "departure 915.3559802652001\n",
      "departure 973.0402054395626\n",
      "arrival 1044.062538385957\n"
     ]
    },
    {
     "data": {
      "text/plain": [
       "8"
      ]
     },
     "execution_count": 7,
     "metadata": {},
     "output_type": "execute_result"
    }
   ],
   "source": [
    "simulate(1000)"
   ]
  },
  {
   "cell_type": "code",
   "execution_count": null,
   "metadata": {},
   "outputs": [],
   "source": []
  },
  {
   "cell_type": "code",
   "execution_count": null,
   "metadata": {},
   "outputs": [],
   "source": []
  }
 ],
 "metadata": {
  "kernelspec": {
   "display_name": "Julia 0.5.2",
   "language": "julia",
   "name": "julia-0.5"
  },
  "language_info": {
   "file_extension": ".jl",
   "mimetype": "application/julia",
   "name": "julia",
   "version": "0.5.2"
  }
 },
 "nbformat": 4,
 "nbformat_minor": 2
}
