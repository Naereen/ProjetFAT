{
 "cells": [
  {
   "cell_type": "code",
   "execution_count": 7,
   "metadata": {},
   "outputs": [],
   "source": [
    "### This is about simulating a great number of times the Velib trafic in Rouen\n",
    "import Distributions\n",
    "using Distributions\n",
    "srand(123);"
   ]
  },
  {
   "cell_type": "code",
   "execution_count": 8,
   "metadata": {},
   "outputs": [],
   "source": [
    "#General Data\n",
    "T = 1000 #horizon\n",
    "n = 5 #number of stations : 3-7\n",
    "dist_matrix = [0 3 5 7 7;\n",
    "               2 0 2 5 5;\n",
    "               4 2 0 3 3;\n",
    "               8 6 4 0 2;\n",
    "               7 7 5 2 0]; #distance between stations\n",
    "terminal_number = [24 20 20 15 20]; #number of terminals at each station\n",
    "routing_matrix = [0 0.2 0.3 0.2 0.3;\n",
    "                  0.2 0 0.3 0.2 0.3;\n",
    "                  0.2 0.25 0 0.25 0.3;\n",
    "                  0.15 0.2 0.3 0 0.35;\n",
    "                  0.2 0.25 0.35 0.2 0]; #routing matrix ?\n",
    "leaving_per_hour = [2.8 3.7 5.5 3.5 4.6]; #mean number of bikes leaving each station per hour\n",
    "N_bikes = convert(Integer, 91); #total number of bikes\n",
    "N_stations = convert(Integer, 5); #number of stations"
   ]
  },
  {
   "cell_type": "code",
   "execution_count": 9,
   "metadata": {},
   "outputs": [],
   "source": [
    "#Initial data\n",
    "X0 = [20 1 0 0 0;\n",
    "     1 15 1 0 0;\n",
    "     0 1 17 1 0;\n",
    "     0 0 1 13 1;\n",
    "     0 0 0 1 18];"
   ]
  },
  {
   "cell_type": "code",
   "execution_count": 68,
   "metadata": {},
   "outputs": [
    {
     "name": "stderr",
     "output_type": "stream",
     "text": [
      "WARNING: Method definition first_bike_to_leave(Any) in module Main at In[64]:2 overwritten at In[68]:2.\n",
      "WARNING: Method definition pop_custom(Any, Any) in module Main at In[64]:12 overwritten at In[68]:12.\n"
     ]
    },
    {
     "data": {
      "text/plain": [
       "pop_custom (generic function with 1 method)"
      ]
     },
     "execution_count": 68,
     "metadata": {},
     "output_type": "execute_result"
    }
   ],
   "source": [
    "function first_bike_to_leave(on_run)\n",
    "    first = on_run[1, :]\n",
    "    for i in range(1,size(on_run)[1])\n",
    "        if on_run[i,3] < first[3]\n",
    "            first = on_run[i,:];\n",
    "        end\n",
    "    end\n",
    "    return first\n",
    "end\n",
    "\n",
    "function pop_custom(on_run, first_bike)\n",
    "    i0 = 1;\n",
    "    for i in range(1,size(on_run)[1])\n",
    "        if on_run[i,:] == first_bike\n",
    "            i0 = i;\n",
    "        end\n",
    "    end\n",
    "    if i0 == 1\n",
    "        A = on_run[2:end, :];\n",
    "    elseif i0 == size(on_run)[1]\n",
    "        A = on_run[1:i0-1, :];\n",
    "    else\n",
    "        A = vcat(on_run[1:i0-1, :], on_run[i0+1:end, :]);\n",
    "    end\n",
    "    return A;\n",
    "end"
   ]
  },
  {
   "cell_type": "code",
   "execution_count": 76,
   "metadata": {},
   "outputs": [
    {
     "name": "stderr",
     "output_type": "stream",
     "text": [
      "WARNING: Method definition simulate(Any) in module Main at In[74]:3 overwritten at In[76]:3.\n"
     ]
    },
    {
     "data": {
      "text/plain": [
       "simulate (generic function with 1 method)"
      ]
     },
     "execution_count": 76,
     "metadata": {},
     "output_type": "execute_result"
    }
   ],
   "source": [
    "function simulate(T)\n",
    "    #define distributions\n",
    "    exp = Exponential(2); #PARAM TO BE CHANGED\n",
    "    #**route = [Categorical(routing_matrix[i]) for i in range(N_stations)];\n",
    "    route = Categorical([0.2,0.2,0.2,0.2,0.2]); #TO BE CHANGED\n",
    "    #**leaving = Categorical(leaving_per_hour);\n",
    "    leaving = Categorical([0.2,0.2,0.2,0.2,0.2]); #TO BE CHANGED\n",
    "    #**dist = [Exponential(dist_matrix[i, j]) for i in range(N_stations), j in range(N_stations)];\n",
    "    dist = Exponential(10); #TO BE CHANGED\n",
    "    #time\n",
    "    t = 0;\n",
    "    #state\n",
    "    X = X0;\n",
    "    #current bikes on the run with their expected arrival time\n",
    "    #on_run_bike = [1 2 rand(dist[1,2], 1);\n",
    "    #               2 1 rand(dist[2,1], 1);\n",
    "    #               2 3 rand(dist[2,3], 1);\n",
    "    #               3 2 rand(dist[3,2], 1);\n",
    "    #               3 4 rand(dist[3,4], 1);\n",
    "    #               4 3 rand(dist[4,3], 1);\n",
    "    #               4 5 rand(dist[4,5], 1);\n",
    "    #               5 4 rand(dist[5,4], 1)];\n",
    "    on_run_bike = [1 2 rand(dist);\n",
    "                   2 1 rand(dist);\n",
    "                   2 3 rand(dist);\n",
    "                   3 2 rand(dist);\n",
    "                   3 4 rand(dist);\n",
    "                   4 3 rand(dist);\n",
    "                   4 5 rand(dist);\n",
    "                   5 4 rand(dist)];\n",
    "    while (t < T)\n",
    "        #get expected stay time\n",
    "        stay = rand(exp);\n",
    "        #check if there is an arrival time of a bike on the run before stay time.\n",
    "        first_bike = first_bike_to_leave(on_run_bike);\n",
    "        #if the stay time is shorter than the first bike to arrive, it is a departure\n",
    "        if first_bike[3] > t + stay\n",
    "            station = rand(leaving); #station from which the bike leaves\n",
    "            #**destination = rand(route[station]); #destination station according to the routing matrix\n",
    "            destination = rand(route); #TO BE CHANGED\n",
    "            X[station, destination] = X[station, destination] + 1;\n",
    "            X[station, station] = X[station, station] - 1;\n",
    "            #**on_run_bike.append([station destination (t+rand(dist[station, destination], 1))]);\n",
    "            on_run_bike = [on_run_bike; [station destination t+stay+rand(dist)]]; #TO BE CHANGED\n",
    "            t = t + stay;\n",
    "            println(\"departure \", t);\n",
    "        else\n",
    "            station = convert(Integer, first_bike[2]);\n",
    "            origin = convert(Integer, first_bike[1]);\n",
    "            time = first_bike[3];\n",
    "            X[origin, station] = X[origin, station] - 1;\n",
    "            X[station, station] = X[station, station] + 1;\n",
    "            on_run_bike = pop_custom(on_run_bike, first_bike);\n",
    "            t = time;\n",
    "            println(\"arrival \", t);\n",
    "        end\n",
    "    end\n",
    "    result = 0;\n",
    "    return result\n",
    "end"
   ]
  },
  {
   "cell_type": "code",
   "execution_count": 77,
   "metadata": {},
   "outputs": [
    {
     "name": "stdout",
     "output_type": "stream",
     "text": [
      "departure 0.5026865987026574\n",
      "arrival 0.5737381473103889\n",
      "arrival 0.83251780386962\n",
      "arrival 2.73532107562549\n",
      "departure 3.1762370609914297\n",
      "departure 3.485397659707656\n",
      "departure 3.7496324302951103\n",
      "arrival 4.596636302348166\n",
      "departure 4.939880860209692\n",
      "arrival 6.8932002405477535\n",
      "departure 7.02474306697552\n",
      "arrival 7.220360822931641\n",
      "departure 7.222797016678815\n",
      "departure 8.19756158163915\n",
      "departure 8.280840362999275\n",
      "arrival 10.268864726569692\n",
      "departure 11.908638220448246\n",
      "arrival 12.690834950860959\n",
      "departure 14.249435295937767\n",
      "arrival 15.094723194212623\n",
      "arrival 16.710033184867605\n",
      "arrival 17.563181309545413\n",
      "departure 18.65459386301475\n",
      "departure 18.775804686895977\n",
      "arrival 19.061730690951112\n",
      "arrival 19.153563563177624\n",
      "departure 21.591718161706382\n",
      "departure 22.059301982894766\n",
      "arrival 22.91504347665225\n",
      "departure 23.937089727304905\n",
      "departure 24.303750237799292\n",
      "departure 24.724256330346908\n",
      "arrival 24.88857999594837\n",
      "arrival 25.342640452815633\n",
      "departure 25.471953538177527\n",
      "arrival 25.586906802538\n",
      "arrival 25.95492455666639\n",
      "arrival 26.13611303291711\n",
      "departure 27.79684218401397\n",
      "departure 29.300626406032737\n",
      "arrival 31.111888017370042\n",
      "departure 31.669034892391778\n",
      "arrival 32.03007852277552\n",
      "arrival 33.258069184952305\n",
      "arrival 33.5228939146482\n",
      "arrival 34.00526225899871\n",
      "departure 35.975266605139005\n",
      "arrival 36.54717383008877\n",
      "departure 39.148882098796136\n",
      "departure 40.27819844103421\n",
      "arrival 40.95085523745394\n",
      "departure 42.32111064030458\n",
      "arrival 42.39725261429292\n",
      "arrival 42.7398462303218\n",
      "departure 44.1308226631629\n",
      "arrival 45.5548862159385\n",
      "arrival 46.055792241693254\n",
      "arrival 46.390897864915935\n",
      "departure 47.84107274091117\n",
      "departure 48.75534102578666\n",
      "departure 50.13348836741759\n",
      "departure 50.5946068075677\n",
      "departure 51.0482209459879\n",
      "arrival 51.234512209385535\n",
      "departure 51.50715569802512\n",
      "departure 52.068815320947095\n",
      "arrival 54.091627657217956\n",
      "arrival 54.499059570681155\n",
      "arrival 54.68106058105706\n",
      "arrival 55.463621519235545\n",
      "arrival 56.04689245699267\n",
      "departure 56.225029274150415\n",
      "arrival 56.664546556456074\n",
      "departure 57.4124262484794\n",
      "arrival 58.60216580868855\n",
      "departure 61.17489463304335\n",
      "arrival 62.18460748553795\n",
      "arrival 62.19886934212736\n",
      "departure 62.39088287443985\n",
      "arrival 62.51604517024174\n",
      "departure 63.604823066927125\n",
      "departure 65.51045875839051\n",
      "departure 65.65200097833169\n",
      "arrival 65.71601291777472\n",
      "arrival 67.44180574368222\n",
      "departure 67.66426685081295\n",
      "arrival 68.06740253962752\n",
      "departure 69.25069943913782\n",
      "arrival 70.7651341133018\n",
      "arrival 71.03563594060124\n",
      "departure 73.08531792022426\n",
      "departure 73.10531252753977\n",
      "departure 73.26418572106083\n",
      "arrival 73.5951142113927\n",
      "departure 75.22489929870058\n",
      "departure 75.61116833357464\n",
      "arrival 77.50561798593037\n",
      "arrival 77.97635751418652\n",
      "arrival 78.63502975374078\n",
      "departure 80.34744873275673\n",
      "departure 80.52947665435117\n",
      "arrival 80.78105069847845\n",
      "arrival 82.05231850494977\n",
      "departure 87.26280921333732\n",
      "departure 89.18282465555018\n",
      "arrival 89.22883829674211\n",
      "arrival 91.19325989666602\n",
      "departure 91.3188769053678\n",
      "arrival 91.34623521261895\n",
      "departure 92.05770686016493\n",
      "departure 93.7317689254522\n",
      "arrival 94.49207188693973\n",
      "departure 95.13398787557331\n",
      "departure 95.21247208399349\n",
      "arrival 96.20573037143342\n",
      "arrival 96.36689304136395\n",
      "arrival 96.98787363615511\n",
      "arrival 97.28615453866938\n",
      "arrival 98.52132436824814\n",
      "arrival 99.07288251909173\n",
      "departure 100.07924089822825\n"
     ]
    },
    {
     "data": {
      "text/plain": [
       "0"
      ]
     },
     "execution_count": 77,
     "metadata": {},
     "output_type": "execute_result"
    }
   ],
   "source": [
    "simulate(100)"
   ]
  },
  {
   "cell_type": "code",
   "execution_count": null,
   "metadata": {},
   "outputs": [],
   "source": []
  },
  {
   "cell_type": "code",
   "execution_count": null,
   "metadata": {},
   "outputs": [],
   "source": []
  }
 ],
 "metadata": {
  "kernelspec": {
   "display_name": "Julia 0.5.2",
   "language": "julia",
   "name": "julia-0.5"
  },
  "language_info": {
   "file_extension": ".jl",
   "mimetype": "application/julia",
   "name": "julia",
   "version": "0.5.2"
  }
 },
 "nbformat": 4,
 "nbformat_minor": 2
}
