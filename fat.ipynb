
### This is about simulating a great number of times the Velib trafic in Rouen
import Distributions
using Distributions
srand(123);

#General Data
T = 1000 #horizon
n = 5 #number of stations : 3-7
dist_matrix = [0 3 5 7 7;
               2 0 2 5 5;
               4 2 0 3 3;
               8 6 4 0 2;
               7 7 5 2 0]; #distance between stations
terminal_number = [24 20 20 15 20]; #number of terminals at each station
routing_matrix = [0 0.2 0.3 0.2 0.3;
                  0.2 0 0.3 0.2 0.3;
                  0.2 0.25 0 0.25 0.3;
                  0.15 0.2 0.3 0 0.35;
                  0.2 0.25 0.35 0.2 0]; #routing matrix ?
leaving_per_hour = [2.8 3.7 5.5 3.5 4.6]; #mean number of bikes leaving each station per hour
N_bikes = convert(Integer, 91); #total number of bikes
N_stations = convert(Integer, 5); #number of stations

#Initial data
X0 = [20 1 0 0 0;
     1 15 1 0 0;
     0 1 17 1 0;
     0 0 1 13 1;
     0 0 0 1 18];

function first_bike_to_leave(on_run)
    first = on_run[0]
    for i in on_run
        if i[3] < first[3]
            first = i
        end
    end
    return first
end

function simulate(T)
    #define distributions
    exp = Exponential(2);
    route = [Categorical(routing_matrix[i]) for i in range(N_stations)];
    leaving = Categorical(leaving_per_hour);
    dist = [Categorical(dist_matrix[i, j]) for i in range(N_stations), j in range(N_stations)];
    #time
    t = 0;
    #state
    X = X0;
    #current bikes on the run with their expected arrival time
    on_run_bike = [1 2 rand(dist[1,2], 1);
                   2 1 rand(dist[2,1], 1);
                   2 3 rand(dist[2,3], 1);
                   3 2 rand(dist[3,2], 1);
                   3 4 rand(dist[3,4], 1);
                   4 3 rand(dist[4,3], 1);
                   4 5 rand(dist[4,5], 1);
                   5 4 rand(dist[5,4], 1)];
    while (t < T)
        #get expected stay time
        stay = rand(exp, 1);station, station
        #check if there is an arrival time of a bike on the run before stay time.
        first_bike = first_bike_to_leave(on_run_bike);
        #if the stay time is shorter than the first bike to arrive, it is a departure
        if first_bike[2] < t + stay
            station = rand(leaving, 1); #station from which the bike leaves
            destination = rand(route[station], 1); #destination station according to the routing matrix
            X[station, destination] ++
            X[station, station] --
            on_run_bike.append([station destination (t+rand(dist[station, destination], 1))]);
            t = t + stay;
        else
            station = first_bike[1];
            origin = first_bike[0];
            time = first_bike[2];
            X[origin, station] --
            X[station, station] ++
            t = t + time;
        end
    end
    result = 0;
    return result
end
