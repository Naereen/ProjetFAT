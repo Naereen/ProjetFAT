{
 "cells": [
  {
   "cell_type": "code",
   "execution_count": 20,
   "metadata": {},
   "outputs": [],
   "source": [
    "### This is about simulating a great number of times the Velib trafic in Rouen\n",
    "import Distributions\n",
    "using Distributions\n",
    "import PyPlot\n",
    "using PyPlot\n",
    "srand(123);"
   ]
  },
  {
   "cell_type": "code",
   "execution_count": 21,
   "metadata": {},
   "outputs": [],
   "source": [
    "#General Data\n",
    "T = 120 #horizon\n",
    "n = 5 #number of stations : 3-7\n",
    "dist_matrix = [0 3 5 7 7;\n",
    "               2 0 2 5 5;\n",
    "               4 2 0 3 3;\n",
    "               8 6 4 0 2;\n",
    "               7 7 5 2 0]; #distance between stations\n",
    "terminal_number = [24 20 20 15 20]; #number of terminals at each station\n",
    "routing_matrix = [0 0.2 0.3 0.2 0.3;\n",
    "                  0.2 0 0.3 0.2 0.3;\n",
    "                  0.2 0.25 0 0.25 0.3;\n",
    "                  0.15 0.2 0.3 0 0.35;\n",
    "                  0.2 0.25 0.35 0.2 0]; #routing matrix ?\n",
    "leaving_per_hour = [2.8 3.7 5.5 3.5 4.6]; #mean number of bikes leaving each station per hour\n",
    "alpha = 0.1;\n",
    "N_bikes = convert(Integer, 91); #total number of bikes\n",
    "N_stations = convert(Integer, 5); #number of stations"
   ]
  },
  {
   "cell_type": "code",
   "execution_count": 22,
   "metadata": {},
   "outputs": [],
   "source": [
    "#Initial data\n",
    "X0 = [20 1 0 0 0;\n",
    "     1 15 1 0 0;\n",
    "     0 1 17 1 0;\n",
    "     0 0 1 13 1;\n",
    "     0 0 0 1 18];"
   ]
  },
  {
   "cell_type": "code",
   "execution_count": 23,
   "metadata": {},
   "outputs": [
    {
     "name": "stderr",
     "output_type": "stream",
     "text": [
      "WARNING: Method definition get_event(Any, Any) in module Main at In[5]:2 overwritten at In[23]:2.\n"
     ]
    },
    {
     "data": {
      "text/plain": [
       "get_event (generic function with 1 method)"
      ]
     },
     "execution_count": 23,
     "metadata": {},
     "output_type": "execute_result"
    }
   ],
   "source": [
    "function get_event(v, P)\n",
    "    i0 = 1; j0 = 1; s = 0;\n",
    "    for i in range(1, N_stations)\n",
    "        for j in range(1, N_stations)\n",
    "            s = s + P[(i-1)*N_stations + j];\n",
    "            if P[(i-1)*N_stations + j] != 0\n",
    "                if v > s\n",
    "                    i0 = i; j0 = j;\n",
    "                else\n",
    "                    return [i0, j0];\n",
    "                end\n",
    "            end\n",
    "        end\n",
    "    end\n",
    "    return [i0, j0]\n",
    "end"
   ]
  },
  {
   "cell_type": "code",
   "execution_count": 24,
   "metadata": {},
   "outputs": [
    {
     "name": "stderr",
     "output_type": "stream",
     "text": [
      "WARNING: Method definition simulate(Any) in module Main at In[1]:3 overwritten at In[24]:3.\n"
     ]
    },
    {
     "data": {
      "text/plain": [
       "simulate (generic function with 1 method)"
      ]
     },
     "execution_count": 24,
     "metadata": {},
     "output_type": "execute_result"
    }
   ],
   "source": [
    "function simulate(T)\n",
    "    #define distributions\n",
    "    c = Uniform();\n",
    "    route = [Categorical(routing_matrix[i, :]) for i in range(1, N_stations)]; #TO BE CHANGED\n",
    "    #time\n",
    "    t = 0;\n",
    "    #state\n",
    "    X = X0;\n",
    "    #number of problems\n",
    "    result = 0;\n",
    "    while (t < T)\n",
    "        #********************************************************************\n",
    "        #Get the parameter of the stay time Exponential \n",
    "        #get also the vector with probabilities of each event p\n",
    "        lambda = 0;\n",
    "        p = zeros(N_stations*N_stations);\n",
    "        for i in range(1, N_stations)\n",
    "            for j in range(1, N_stations)\n",
    "                if i != j\n",
    "                    lambda = lambda + X[i,j]*dist_matrix[i,j];\n",
    "                    p[N_stations*(i-1) + j] = X[i,j]*dist_matrix[i,j];\n",
    "                else\n",
    "                    lambda = lambda + alpha * leaving_per_hour[i];\n",
    "                    p[N_stations*(i-1) + j] = alpha * leaving_per_hour[i];\n",
    "                end\n",
    "            end\n",
    "        end\n",
    "        p = p./lambda;\n",
    "        \n",
    "        #*****************************************************************\n",
    "        #Draw the time to stay\n",
    "        exp = Exponential(lambda);\n",
    "        dt = rand(exp);\n",
    "        t = t + dt;\n",
    "        \n",
    "        #*****************************************************************\n",
    "        #draw event and realise it\n",
    "        cat = rand(c);\n",
    "        A = get_event(cat, p); i = A[1]; j = A[2];\n",
    "        #if i == j it is a departure. Else it is an arrival.\n",
    "        if i == j\n",
    "            #if there is no bike available\n",
    "            if X[i,j] == 0\n",
    "                result = result + 1;\n",
    "            else\n",
    "                X[i,j] = X[i,j] - 1;\n",
    "                destination = rand(route[i]);\n",
    "                X[i, destination] = X[i, destination] + 1;\n",
    "            end\n",
    "            #println(\"departure \", t);\n",
    "        else #it is an arrival\n",
    "            #if no terminal is available\n",
    "            if X[j,j] == terminal_number[j]\n",
    "                result = result + 1;\n",
    "            else\n",
    "                X[i,j] = X[i,j] - 1;\n",
    "                X[j,j] = X[j,j] + 1;\n",
    "            end\n",
    "            #println(\"arrival \", t);\n",
    "        end\n",
    "    end\n",
    "    return result\n",
    "end"
   ]
  },
  {
   "cell_type": "code",
   "execution_count": 25,
   "metadata": {},
   "outputs": [
    {
     "data": {
      "text/plain": [
       "0"
      ]
     },
     "execution_count": 25,
     "metadata": {},
     "output_type": "execute_result"
    }
   ],
   "source": [
    "simulate(120)"
   ]
  },
  {
   "cell_type": "code",
   "execution_count": 36,
   "metadata": {},
   "outputs": [
    {
     "name": "stdout",
     "output_type": "stream",
     "text": [
      "[2.0,1.0,2.0,1.0,2.0,1.0,1.0,1.0,3.0,2.0,1.0,1.0,1.0,2.0,1.0,1.0,1.0,1.0,1.0,1.0,1.0,2.0,2.0,1.0,2.0,1.0,2.0,1.0,1.0,2.0,1.0,1.0,2.0,3.0,1.0,1.0,1.0,3.0,1.0,2.0,1.0,1.0,1.0,2.0,1.0,2.0,2.0,1.0,1.0,1.0,1.0,1.0,1.0,3.0,1.0,2.0,1.0,2.0,1.0,1.0,1.0,1.0,1.0,1.0,2.0,1.0,2.0,1.0,1.0,2.0,2.0,1.0,1.0,1.0,1.0,1.0,1.0,1.0,2.0,1.0,1.0,1.0,1.0,1.0,1.0,2.0,1.0,1.0,1.0,2.0,2.0,1.0,1.0,1.0,1.0,2.0,1.0,1.0,2.0,3.0,1.0,1.0,1.0,1.0,1.0,2.0,1.0,1.0,4.0,0.0,2.0,1.0,2.0,2.0,1.0,1.0,2.0,2.0,1.0,1.0,3.0,1.0,1.0,3.0,2.0,1.0,3.0,1.0,2.0,1.0,1.0,1.0,1.0,3.0,1.0,1.0,1.0,1.0,1.0,3.0,1.0,1.0,1.0,1.0,3.0,1.0,1.0,1.0,2.0,1.0,1.0,1.0,1.0,3.0,1.0,1.0,1.0,2.0,1.0,1.0,1.0,1.0,2.0,1.0,1.0,1.0,1.0,1.0,2.0,1.0,1.0,2.0,1.0,3.0,1.0,1.0,2.0,1.0,2.0,1.0,1.0,2.0,1.0,1.0,1.0,2.0,1.0,1.0,1.0,1.0,1.0,2.0,1.0,3.0,1.0,1.0,3.0,1.0,1.0,1.0]\n",
      "mean value 1.385\n",
      "max value 4.0\n"
     ]
    }
   ],
   "source": [
    "results = zeros(200)\n",
    "for t in range(1,200)\n",
    "    results[t] = simulate(T)\n",
    "end\n",
    "println(results)\n",
    "println(\"mean value \", mean(results))\n",
    "println(\"max value \", maximum(results))"
   ]
  },
  {
   "cell_type": "code",
   "execution_count": 38,
   "metadata": {},
   "outputs": [
    {
     "data": {
      "image/png": "[encoded data removed]",
      "text/plain": [
       "PyPlot.Figure(PyObject <matplotlib.figure.Figure object at 0x7f37c2609050>)"
      ]
     },
     "metadata": {},
     "output_type": "display_data"
    },
    {
     "data": {
      "text/plain": [
       "(PyObject <matplotlib.patches.Rectangle object at 0x7f37c231bf50>,PyObject <matplotlib.patches.Rectangle object at 0x7f37c231bd10>,PyObject <matplotlib.patches.Rectangle object at 0x7f37c23262d0>,PyObject <matplotlib.patches.Rectangle object at 0x7f37c2326690>,PyObject <matplotlib.patches.Rectangle object at 0x7f37c23269d0>,PyObject <matplotlib.patches.Rectangle object at 0x7f37c2326d50>,PyObject <matplotlib.patches.Rectangle object at 0x7f37c232f110>,PyObject <matplotlib.patches.Rectangle object at 0x7f37c232f490>,PyObject <matplotlib.patches.Rectangle object at 0x7f37c232f810>,PyObject <matplotlib.patches.Rectangle object at 0x7f37c232fb90>,PyObject <matplotlib.patches.Rectangle object at 0x7f37c232ff10>,PyObject <matplotlib.patches.Rectangle object at 0x7f37c22ba2d0>,PyObject <matplotlib.patches.Rectangle object at 0x7f37c22ba650>,PyObject <matplotlib.patches.Rectangle object at 0x7f37c22ba9d0>,PyObject <matplotlib.patches.Rectangle object at 0x7f37c22bad50>,PyObject <matplotlib.patches.Rectangle object at 0x7f37c22c7110>,PyObject <matplotlib.patches.Rectangle object at 0x7f37c22c7490>,PyObject <matplotlib.patches.Rectangle object at 0x7f37c22c7810>,PyObject <matplotlib.patches.Rectangle object at 0x7f37c22c7b90>,PyObject <matplotlib.patches.Rectangle object at 0x7f37c22c7f10>,PyObject <matplotlib.patches.Rectangle object at 0x7f37c22d12d0>,PyObject <matplotlib.patches.Rectangle object at 0x7f37c22d1650>,PyObject <matplotlib.patches.Rectangle object at 0x7f37c22d19d0>,PyObject <matplotlib.patches.Rectangle object at 0x7f37c22d1d50>,PyObject <matplotlib.patches.Rectangle object at 0x7f37c22db110>,PyObject <matplotlib.patches.Rectangle object at 0x7f37c22db490>,PyObject <matplotlib.patches.Rectangle object at 0x7f37c22db810>,PyObject <matplotlib.patches.Rectangle object at 0x7f37c22dbb90>,PyObject <matplotlib.patches.Rectangle object at 0x7f37c22dbf10>,PyObject <matplotlib.patches.Rectangle object at 0x7f37c22e72d0>,PyObject <matplotlib.patches.Rectangle object at 0x7f37c22e7650>,PyObject <matplotlib.patches.Rectangle object at 0x7f37c22e79d0>,PyObject <matplotlib.patches.Rectangle object at 0x7f37c22e7d50>,PyObject <matplotlib.patches.Rectangle object at 0x7f37c22f2110>,PyObject <matplotlib.patches.Rectangle object at 0x7f37c22f2490>,PyObject <matplotlib.patches.Rectangle object at 0x7f37c22f2810>,PyObject <matplotlib.patches.Rectangle object at 0x7f37c22f2b90>,PyObject <matplotlib.patches.Rectangle object at 0x7f37c22f2f10>,PyObject <matplotlib.patches.Rectangle object at 0x7f37c22802d0>,PyObject <matplotlib.patches.Rectangle object at 0x7f37c2280650>,PyObject <matplotlib.patches.Rectangle object at 0x7f37c22809d0>,PyObject <matplotlib.patches.Rectangle object at 0x7f37c2280d50>,PyObject <matplotlib.patches.Rectangle object at 0x7f37c228d110>,PyObject <matplotlib.patches.Rectangle object at 0x7f37c228d490>,PyObject <matplotlib.patches.Rectangle object at 0x7f37c228d810>,PyObject <matplotlib.patches.Rectangle object at 0x7f37c228db90>,PyObject <matplotlib.patches.Rectangle object at 0x7f37c228df10>,PyObject <matplotlib.patches.Rectangle object at 0x7f37c22982d0>,PyObject <matplotlib.patches.Rectangle object at 0x7f37c2298650>,PyObject <matplotlib.patches.Rectangle object at 0x7f37c22989d0>,PyObject <matplotlib.patches.Rectangle object at 0x7f37c2298d50>,PyObject <matplotlib.patches.Rectangle object at 0x7f37c22a4110>,PyObject <matplotlib.patches.Rectangle object at 0x7f37c22a4490>,PyObject <matplotlib.patches.Rectangle object at 0x7f37c22a4810>,PyObject <matplotlib.patches.Rectangle object at 0x7f37c22a4b90>,PyObject <matplotlib.patches.Rectangle object at 0x7f37c22a4f10>,PyObject <matplotlib.patches.Rectangle object at 0x7f37c22b02d0>,PyObject <matplotlib.patches.Rectangle object at 0x7f37c22b0650>,PyObject <matplotlib.patches.Rectangle object at 0x7f37c22b09d0>,PyObject <matplotlib.patches.Rectangle object at 0x7f37c22b0d50>,PyObject <matplotlib.patches.Rectangle object at 0x7f37c223b110>,PyObject <matplotlib.patches.Rectangle object at 0x7f37c223b490>,PyObject <matplotlib.patches.Rectangle object at 0x7f37c223b810>,PyObject <matplotlib.patches.Rectangle object at 0x7f37c223bb90>,PyObject <matplotlib.patches.Rectangle object at 0x7f37c223bf10>,PyObject <matplotlib.patches.Rectangle object at 0x7f37c22492d0>,PyObject <matplotlib.patches.Rectangle object at 0x7f37c2249650>,PyObject <matplotlib.patches.Rectangle object at 0x7f37c22499d0>,PyObject <matplotlib.patches.Rectangle object at 0x7f37c2249d50>,PyObject <matplotlib.patches.Rectangle object at 0x7f37c2255110>,PyObject <matplotlib.patches.Rectangle object at 0x7f37c2255490>,PyObject <matplotlib.patches.Rectangle object at 0x7f37c2255810>,PyObject <matplotlib.patches.Rectangle object at 0x7f37c2255b90>,PyObject <matplotlib.patches.Rectangle object at 0x7f37c2255f10>,PyObject <matplotlib.patches.Rectangle object at 0x7f37c22612d0>,PyObject <matplotlib.patches.Rectangle object at 0x7f37c2261650>,PyObject <matplotlib.patches.Rectangle object at 0x7f37c22619d0>,PyObject <matplotlib.patches.Rectangle object at 0x7f37c2261d50>,PyObject <matplotlib.patches.Rectangle object at 0x7f37c226e110>,PyObject <matplotlib.patches.Rectangle object at 0x7f37c226e490>,PyObject <matplotlib.patches.Rectangle object at 0x7f37c226e810>,PyObject <matplotlib.patches.Rectangle object at 0x7f37c226eb90>,PyObject <matplotlib.patches.Rectangle object at 0x7f37c226ef10>,PyObject <matplotlib.patches.Rectangle object at 0x7f37998322d0>,PyObject <matplotlib.patches.Rectangle object at 0x7f3799832650>,PyObject <matplotlib.patches.Rectangle object at 0x7f37998329d0>,PyObject <matplotlib.patches.Rectangle object at 0x7f3799832d50>,PyObject <matplotlib.patches.Rectangle object at 0x7f379983e110>,PyObject <matplotlib.patches.Rectangle object at 0x7f379983e490>,PyObject <matplotlib.patches.Rectangle object at 0x7f379983e810>,PyObject <matplotlib.patches.Rectangle object at 0x7f379983eb90>,PyObject <matplotlib.patches.Rectangle object at 0x7f379983ef10>,PyObject <matplotlib.patches.Rectangle object at 0x7f379984b2d0>,PyObject <matplotlib.patches.Rectangle object at 0x7f379984b650>,PyObject <matplotlib.patches.Rectangle object at 0x7f379984b9d0>,PyObject <matplotlib.patches.Rectangle object at 0x7f379984bd50>,PyObject <matplotlib.patches.Rectangle object at 0x7f3799857110>,PyObject <matplotlib.patches.Rectangle object at 0x7f3799857490>,PyObject <matplotlib.patches.Rectangle object at 0x7f3799857810>,PyObject <matplotlib.patches.Rectangle object at 0x7f3799857b90>,PyObject <matplotlib.patches.Rectangle object at 0x7f3799857f10>,PyObject <matplotlib.patches.Rectangle object at 0x7f37998632d0>,PyObject <matplotlib.patches.Rectangle object at 0x7f3799863650>,PyObject <matplotlib.patches.Rectangle object at 0x7f37998639d0>,PyObject <matplotlib.patches.Rectangle object at 0x7f3799863d50>,PyObject <matplotlib.patches.Rectangle object at 0x7f379986e110>,PyObject <matplotlib.patches.Rectangle object at 0x7f379986e490>,PyObject <matplotlib.patches.Rectangle object at 0x7f379986e810>,PyObject <matplotlib.patches.Rectangle object at 0x7f379986eb90>,PyObject <matplotlib.patches.Rectangle object at 0x7f379986ef10>,PyObject <matplotlib.patches.Rectangle object at 0x7f37997fc2d0>,PyObject <matplotlib.patches.Rectangle object at 0x7f37997fc650>,PyObject <matplotlib.patches.Rectangle object at 0x7f37c2860e10>,PyObject <matplotlib.patches.Rectangle object at 0x7f37c2488290>,PyObject <matplotlib.patches.Rectangle object at 0x7f37c2528990>,PyObject <matplotlib.patches.Rectangle object at 0x7f37997fce50>,PyObject <matplotlib.patches.Rectangle object at 0x7f3799809210>,PyObject <matplotlib.patches.Rectangle object at 0x7f3799809590>,PyObject <matplotlib.patches.Rectangle object at 0x7f3799809910>,PyObject <matplotlib.patches.Rectangle object at 0x7f3799809c90>,PyObject <matplotlib.patches.Rectangle object at 0x7f3799809f90>,PyObject <matplotlib.patches.Rectangle object at 0x7f37998163d0>,PyObject <matplotlib.patches.Rectangle object at 0x7f3799816750>,PyObject <matplotlib.patches.Rectangle object at 0x7f3799816ad0>,PyObject <matplotlib.patches.Rectangle object at 0x7f3799816e50>,PyObject <matplotlib.patches.Rectangle object at 0x7f3799821210>,PyObject <matplotlib.patches.Rectangle object at 0x7f3799821590>,PyObject <matplotlib.patches.Rectangle object at 0x7f3799821910>,PyObject <matplotlib.patches.Rectangle object at 0x7f3799821c90>,PyObject <matplotlib.patches.Rectangle object at 0x7f3799821f90>,PyObject <matplotlib.patches.Rectangle object at 0x7f379982c3d0>,PyObject <matplotlib.patches.Rectangle object at 0x7f379982c750>,PyObject <matplotlib.patches.Rectangle object at 0x7f379982cad0>,PyObject <matplotlib.patches.Rectangle object at 0x7f379982ce50>,PyObject <matplotlib.patches.Rectangle object at 0x7f37997bb210>,PyObject <matplotlib.patches.Rectangle object at 0x7f37997bb590>,PyObject <matplotlib.patches.Rectangle object at 0x7f37997bb910>,PyObject <matplotlib.patches.Rectangle object at 0x7f37997bbc90>,PyObject <matplotlib.patches.Rectangle object at 0x7f37997bbf90>,PyObject <matplotlib.patches.Rectangle object at 0x7f37997c73d0>,PyObject <matplotlib.patches.Rectangle object at 0x7f37997c7750>,PyObject <matplotlib.patches.Rectangle object at 0x7f37997c7ad0>,PyObject <matplotlib.patches.Rectangle object at 0x7f37997c7e50>,PyObject <matplotlib.patches.Rectangle object at 0x7f37997d3210>,PyObject <matplotlib.patches.Rectangle object at 0x7f37997d3590>,PyObject <matplotlib.patches.Rectangle object at 0x7f37997d3910>,PyObject <matplotlib.patches.Rectangle object at 0x7f37997d3c90>,PyObject <matplotlib.patches.Rectangle object at 0x7f37997d3f90>,PyObject <matplotlib.patches.Rectangle object at 0x7f37997df3d0>,PyObject <matplotlib.patches.Rectangle object at 0x7f37997df750>,PyObject <matplotlib.patches.Rectangle object at 0x7f37997dfad0>,PyObject <matplotlib.patches.Rectangle object at 0x7f37997dfe50>,PyObject <matplotlib.patches.Rectangle object at 0x7f37997ea210>,PyObject <matplotlib.patches.Rectangle object at 0x7f37997ea590>,PyObject <matplotlib.patches.Rectangle object at 0x7f37997ea910>,PyObject <matplotlib.patches.Rectangle object at 0x7f37997eac90>,PyObject <matplotlib.patches.Rectangle object at 0x7f37997eaf90>,PyObject <matplotlib.patches.Rectangle object at 0x7f37997753d0>,PyObject <matplotlib.patches.Rectangle object at 0x7f3799775750>,PyObject <matplotlib.patches.Rectangle object at 0x7f3799775ad0>,PyObject <matplotlib.patches.Rectangle object at 0x7f3799775e50>,PyObject <matplotlib.patches.Rectangle object at 0x7f3799784210>,PyObject <matplotlib.patches.Rectangle object at 0x7f3799784590>,PyObject <matplotlib.patches.Rectangle object at 0x7f3799784910>,PyObject <matplotlib.patches.Rectangle object at 0x7f3799784c90>,PyObject <matplotlib.patches.Rectangle object at 0x7f3799784f90>,PyObject <matplotlib.patches.Rectangle object at 0x7f379978f3d0>,PyObject <matplotlib.patches.Rectangle object at 0x7f379978f750>,PyObject <matplotlib.patches.Rectangle object at 0x7f379978fad0>,PyObject <matplotlib.patches.Rectangle object at 0x7f379978fe50>,PyObject <matplotlib.patches.Rectangle object at 0x7f379979b210>,PyObject <matplotlib.patches.Rectangle object at 0x7f379979b590>,PyObject <matplotlib.patches.Rectangle object at 0x7f379979b910>,PyObject <matplotlib.patches.Rectangle object at 0x7f379979bc90>,PyObject <matplotlib.patches.Rectangle object at 0x7f379979bf90>,PyObject <matplotlib.patches.Rectangle object at 0x7f37997a83d0>,PyObject <matplotlib.patches.Rectangle object at 0x7f37997a8750>,PyObject <matplotlib.patches.Rectangle object at 0x7f37997a8ad0>,PyObject <matplotlib.patches.Rectangle object at 0x7f37997a8e50>,PyObject <matplotlib.patches.Rectangle object at 0x7f3799733210>,PyObject <matplotlib.patches.Rectangle object at 0x7f3799733590>,PyObject <matplotlib.patches.Rectangle object at 0x7f3799733910>,PyObject <matplotlib.patches.Rectangle object at 0x7f3799733c90>,PyObject <matplotlib.patches.Rectangle object at 0x7f3799733f90>,PyObject <matplotlib.patches.Rectangle object at 0x7f37997403d0>,PyObject <matplotlib.patches.Rectangle object at 0x7f3799740750>,PyObject <matplotlib.patches.Rectangle object at 0x7f3799740ad0>,PyObject <matplotlib.patches.Rectangle object at 0x7f3799740e50>,PyObject <matplotlib.patches.Rectangle object at 0x7f379974c210>,PyObject <matplotlib.patches.Rectangle object at 0x7f379974c590>,PyObject <matplotlib.patches.Rectangle object at 0x7f379974c910>,PyObject <matplotlib.patches.Rectangle object at 0x7f379974cc90>,PyObject <matplotlib.patches.Rectangle object at 0x7f379974cf90>,PyObject <matplotlib.patches.Rectangle object at 0x7f37997583d0>,PyObject <matplotlib.patches.Rectangle object at 0x7f3799758750>,PyObject <matplotlib.patches.Rectangle object at 0x7f3799758ad0>,PyObject <matplotlib.patches.Rectangle object at 0x7f3799758e50>,PyObject <matplotlib.patches.Rectangle object at 0x7f3799764210>,PyObject <matplotlib.patches.Rectangle object at 0x7f3799764590>,PyObject <matplotlib.patches.Rectangle object at 0x7f3799764910>)"
      ]
     },
     "execution_count": 38,
     "metadata": {},
     "output_type": "execute_result"
    }
   ],
   "source": [
    "bar(range(1, 200), results, color=\"blue\",align=\"center\",alpha=0.4)"
   ]
  },
  {
   "cell_type": "code",
   "execution_count": 34,
   "metadata": {},
   "outputs": [
    {
     "data": {
      "image/png": "[encoded data removed]",
      "text/plain": [
       "PyPlot.Figure(PyObject <matplotlib.figure.Figure object at 0x7f37c28fa110>)"
      ]
     },
     "metadata": {},
     "output_type": "display_data"
    },
    {
     "data": {
      "text/plain": [
       "([6.0,120.0,52.0,22.0],[0.0,1.0,2.0,3.0,4.0],Any[PyObject <matplotlib.patches.Rectangle object at 0x7f37c28c0310>,PyObject <matplotlib.patches.Rectangle object at 0x7f37c28c00d0>,PyObject <matplotlib.patches.Rectangle object at 0x7f37c28c0610>,PyObject <matplotlib.patches.Rectangle object at 0x7f37c28c09d0>])"
      ]
     },
     "execution_count": 34,
     "metadata": {},
     "output_type": "execute_result"
    }
   ],
   "source": [
    "h = plt[:hist](results,4) # Histogram\n",
    "#gcf() # Needed for IJulia to plot inline"
   ]
  },
  {
   "cell_type": "code",
   "execution_count": null,
   "metadata": {},
   "outputs": [],
   "source": []
  }
 ],
 "metadata": {
  "kernelspec": {
   "display_name": "Julia 0.5.2",
   "language": "julia",
   "name": "julia-0.5"
  },
  "language_info": {
   "file_extension": ".jl",
   "mimetype": "application/julia",
   "name": "julia",
   "version": "0.5.2"
  }
 },
 "nbformat": 4,
 "nbformat_minor": 2
}
